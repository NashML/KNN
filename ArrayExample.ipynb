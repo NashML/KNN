{
 "metadata": {
  "name": "",
  "signature": "sha256:11dc0b87921d8f806b9f9bf206a271c31377162356f0b095227a9522746fcf5c"
 },
 "nbformat": 3,
 "nbformat_minor": 0,
 "worksheets": [
  {
   "cells": [
    {
     "cell_type": "code",
     "collapsed": false,
     "input": [
      "import cmath\n",
      "import math\n",
      "import numpy as np\n",
      "import matplotlib.pyplot as plt\n",
      "%matplotlib inline\n"
     ],
     "language": "python",
     "metadata": {},
     "outputs": [],
     "prompt_number": 61
    },
    {
     "cell_type": "code",
     "collapsed": false,
     "input": [
      "class array_resp:\n",
      "    def __init__(self, N):\n",
      "        self.points = np.array([1.0, 0.0], ndmin=2)\n",
      "        self.dist = 0.23\n",
      "        for idx in range(1,N):\n",
      "            loc = [math.cos((2*math.pi/N)*idx), math.sin((2*math.pi/N)*idx)]\n",
      "            self.points = self.dist * np.concatenate((self.points, np.array(loc, ndmin=2)), axis=0)\n",
      "    \n",
      "    def calc_response(self, theta):\n",
      "        doa_vector = np.array([0.70710678 * math.cos(theta), 0.70710678 * math.sin(theta)], ndmin=2)\n",
      "        rel_dist = np.dot(self.points, doa_vector.T)\n",
      "        arr_resp = np.exp(-1j * rel_dist)\n",
      "        return np.angle(arr_resp).T\n",
      "    \n",
      "    def build_table(self, npoints):\n",
      "        self.table = self.calc_response(0.0)\n",
      "        self.doa = np.array([0.0], ndmin=1)\n",
      "        step = 2.0*math.pi/npoints\n",
      "        angle = step\n",
      "        while (angle < 2 * cmath.pi):\n",
      "            self.table = np.concatenate((self.table, self.calc_response(angle)), axis=0)\n",
      "            self.doa = np.concatenate((self.doa, np.array([angle], ndmin=1)), axis=0)\n",
      "            angle += step\n",
      "    \n",
      "    def print_table(self):\n",
      "        for resp in self.table:\n",
      "            print resp\n",
      "    \n",
      "    def calc_distance(self, response):\n",
      "        return np.linalg.norm(self.table - response, axis=1)\n",
      "    \n",
      "    def find_nearest(self, response):\n",
      "        distances = self.calc_distance(response)\n",
      "        min_index = np.argmin(distances)\n",
      "        return self.doa[min_index]\n",
      "    \n",
      "    def convert_to_degrees(self, val):\n",
      "        return 360.0 * val / (2.0 * math.pi)\n",
      "    "
     ],
     "language": "python",
     "metadata": {},
     "outputs": [],
     "prompt_number": 83
    },
    {
     "cell_type": "code",
     "collapsed": false,
     "input": [
      "arg = array_resp(5)\n",
      "arg.build_table(360)\n",
      "clean_response = arg.calc_response(0.75)\n",
      "noisy_response = clean_response + 0.1 * np.random.random(clean_response.shape)\n",
      "distances = arg.calc_distance(noisy_response)\n",
      "print noisy_response\n",
      "print arg.convert_to_degrees(0.75)\n",
      "plt.plot(arg.convert_to_degrees(arg.doa), arg.calc_distance(noisy_response)); plt.show()\n",
      "print arg.convert_to_degrees(arg.find_nearest(noisy_response))"
     ],
     "language": "python",
     "metadata": {},
     "outputs": [
      {
       "output_type": "stream",
       "stream": "stdout",
       "text": [
        "[[-0.00052472  0.08346347  0.0365528   0.07179025  0.11102143]]\n",
        "42.9718346348\n"
       ]
      },
      {
       "metadata": {},
       "output_type": "display_data",
       "png": "[encoded data removed]",
       "text": [
        "<matplotlib.figure.Figure at 0x10475af50>"
       ]
      },
      {
       "output_type": "stream",
       "stream": "stdout",
       "text": [
        "58.0\n"
       ]
      }
     ],
     "prompt_number": 87
    },
    {
     "cell_type": "code",
     "collapsed": false,
     "input": [
      "\n"
     ],
     "language": "python",
     "metadata": {},
     "outputs": [],
     "prompt_number": 88
    },
    {
     "cell_type": "code",
     "collapsed": false,
     "input": [],
     "language": "python",
     "metadata": {},
     "outputs": []
    }
   ],
   "metadata": {}
  }
 ]
}